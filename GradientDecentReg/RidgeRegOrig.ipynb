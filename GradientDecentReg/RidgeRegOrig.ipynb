{
 "cells": [
  {
   "cell_type": "code",
   "execution_count": 6,
   "metadata": {},
   "outputs": [],
   "source": [
    "import numpy as np\n",
    "import pandas as pd\n",
    "import matplotlib.pyplot as plt\n",
    "from sklearn.linear_model import LinearRegression"
   ]
  },
  {
   "cell_type": "code",
   "execution_count": 25,
   "metadata": {},
   "outputs": [],
   "source": [
    "class RidgeRegGradientDescentMulti:\n",
    "    def __init__(self):\n",
    "        self.cost=0\n",
    "    def fit(self,X,Y,Debug=0,trials=10,alpha=0.1,early_stop=0,l2=0):\n",
    "        self.__init__()\n",
    "        \n",
    "        self.best_params=np.zeros([len(X[0])+1,])\n",
    "        self.direcs=[True]*(len(X[0])+1)\n",
    "        \n",
    "        if Debug==1:\n",
    "            print(\"Debug:X.shape:\",X.shape)\n",
    "            print(\"Debug:Y.shape:\",Y.shape)\n",
    "        for t in range(trials):\n",
    "            \n",
    "            if t==0:\n",
    "                self.cost=0\n",
    "                for i in range(len(X)):\n",
    "                    residuals=0\n",
    "                    residuals+=Y[i]\n",
    "                    for j in range(len(X[0])+1):\n",
    "                        if j==0:\n",
    "                            residuals-= self.best_params[j]\n",
    "                        else:\n",
    "                            residuals-= self.best_params[j]*X[i][j-1]\n",
    "                    \n",
    "                    self.cost+=residuals**2\n",
    "                self.cost+=sum(self.best_params[1:3]**2)\n",
    "                if Debug==1:print(\"Debug:sum of cost is\",self.cost)\n",
    "            #initial direction checking\n",
    "            if t==0:\n",
    "                positiveDirecCost=np.zeros([len(X[0])+1,])\n",
    "                negativeDirecCost=np.zeros([len(X[0])+1,])\n",
    "                for i in range(len(X[0])+1):\n",
    "                    for j in range(len(X)):\n",
    "                        pos_residuals=0\n",
    "                        neg_residuals=0\n",
    "                        pos_residuals+=Y[j]\n",
    "                        neg_residuals+=Y[j]\n",
    "                        for k in range(len(X[0])+1):\n",
    "                            if k==i:\n",
    "                                if k==0:\n",
    "                                    pos_residuals-= (self.best_params[k]+alpha)\n",
    "                                    neg_residuals-= (self.best_params[k]-alpha)\n",
    "                                else:\n",
    "                                    pos_residuals-= (self.best_params[k]+alpha)*X[j][k-1]\n",
    "                                    neg_residuals-= (self.best_params[k]-alpha)*X[j][k-1]\n",
    "                            else:\n",
    "                                if k==0:\n",
    "                                    pos_residuals-= self.best_params[k]\n",
    "                                    neg_residuals-= self.best_params[k]\n",
    "                                else:\n",
    "                                    pos_residuals-= self.best_params[k]*X[j][k-1]\n",
    "                                    neg_residuals-= self.best_params[k]*X[j][k-1]     \n",
    "                        positiveDirecCost[i]+=pos_residuals**2\n",
    "                        negativeDirecCost[i]+=neg_residuals**2\n",
    "                    for j in range(len(X[0])+1):\n",
    "                        if j!=0 and j==i:\n",
    "                            positiveDirecCost[i]+=l2*((self.best_params[j]+alpha)**2)\n",
    "                            negativeDirecCost[i]+=l2*((self.best_params[j]-alpha)**2)\n",
    "                        else:\n",
    "                            if j!=0:\n",
    "                                positiveDirecCost[i]+=l2*(self.best_params[j]**2)\n",
    "                                negativeDirecCost[i]+=l2*(self.best_params[j]**2)\n",
    "                for i in range(len(X[0])+1):\n",
    "                    if positiveDirecCost[i] <=negativeDirecCost[i]:\n",
    "                        self.direcs[i]=True\n",
    "                    if negativeDirecCost[i] < positiveDirecCost[i]:\n",
    "                        self.direcs[i] =False\n",
    "                if Debug==1:print(self.direcs)\n",
    "                \n",
    "            #parameter updates\n",
    "            for i in range(len(X[0])+1):\n",
    "                convergence=0\n",
    "                proposal_cost=0\n",
    "                for j in range(len(X)):\n",
    "                    prop_residuals=0\n",
    "                    prop_residuals+=Y[j]\n",
    "                    for k in range(len(X[0])+1):\n",
    "                        if k==i:\n",
    "                            if k==0:\n",
    "                                if self.direcs[i]==True: prop_residuals-= (self.best_params[k]+alpha)\n",
    "                                if self.direcs[i]==False: prop_residuals-= (self.best_params[k]-alpha)                                        \n",
    "                            else:\n",
    "                                if self.direcs[i]==True: prop_residuals-= (self.best_params[k]+alpha)*X[j][k-1]\n",
    "                                if self.direcs[i]==False: prop_residuals-= (self.best_params[k]-alpha)*X[j][k-1]  \n",
    "                        else:\n",
    "                            if k==0:\n",
    "                                prop_residuals-= self.best_params[k]\n",
    "                            else:\n",
    "                                prop_residuals-= self.best_params[k]*X[j][k-1]   \n",
    "                    proposal_cost+=prop_residuals**2\n",
    "                    for j in range(len(X[0])+1):\n",
    "                        if j!=0 and j==i:\n",
    "                            if self.direcs[i]==True: proposal_cost+=l2*((self.best_params[j]+alpha)**2)\n",
    "                            if self.direcs[i]==False: proposal_cost+=l2*((self.best_params[j]-alpha)**2)\n",
    "                        else:\n",
    "                            if j!=0:\n",
    "                                if self.direcs[i]==True: proposal_cost+=l2*(self.best_params[j]**2)\n",
    "                                if self.direcs[i]==False: proposal_cost+=l2*(self.best_params[j]**2)\n",
    "                \n",
    "                \n",
    "                if Debug==1:print(\"Debug:Proposal Cost is \",proposal_cost)\n",
    "                if self.cost > proposal_cost:\n",
    "                    if self.direcs[i]==True: self.best_params[i]=self.best_params[i]+alpha\n",
    "                    if self.direcs[i]==False: self.best_params[i]=self.best_params[i]-alpha\n",
    "                    self.cost=proposal_cost\n",
    "                    convergence+=1\n",
    "            if convergence==0 and early_stop==1:\n",
    "                print(\"early stop\")\n",
    "                break\n",
    "            else:\n",
    "                continue\n",
    "            break\n",
    "        print(\"Best parameters:\",self.best_params)\n",
    "        print(\"Min Cost:\",self.cost)\n",
    "        return self.best_params"
   ]
  },
  {
   "cell_type": "code",
   "execution_count": 8,
   "metadata": {},
   "outputs": [],
   "source": [
    "def gendata_linear(n,mean,cov,w,intercept,sigma):\n",
    "    x = np.random.multivariate_normal(mean,cov,n)\n",
    "    y = np.zeros(n)\n",
    "    for i in range(n):\n",
    "        y[i] = w@x[i,:] + intercept + np.random.randn()*sigma\n",
    "    return x,y"
   ]
  },
  {
   "cell_type": "code",
   "execution_count": 30,
   "metadata": {},
   "outputs": [
    {
     "name": "stderr",
     "output_type": "stream",
     "text": [
      "C:\\Users\\shota\\Anaconda3\\lib\\site-packages\\ipykernel_launcher.py:2: RuntimeWarning: covariance is not positive-semidefinite.\n",
      "  \n"
     ]
    }
   ],
   "source": [
    "numsample = 100\n",
    "mean = [0,0,0]\n",
    "cov = [[1,0.99,0],[0.999,1,0],[0,0,1]]\n",
    "w = [0.01,1,2]\n",
    "sigma = 1\n",
    "intercept = 0\n",
    "x,y = gendata_linear(numsample,w,cov,w,intercept,sigma)"
   ]
  },
  {
   "cell_type": "code",
   "execution_count": 54,
   "metadata": {},
   "outputs": [
    {
     "name": "stdout",
     "output_type": "stream",
     "text": [
      "Best parameters: [4.6 0.  0.1 0.1]\n",
      "Min Cost: 772.3940481999364\n"
     ]
    },
    {
     "data": {
      "text/plain": [
       "array([4.6, 0. , 0.1, 0.1])"
      ]
     },
     "execution_count": 54,
     "metadata": {},
     "output_type": "execute_result"
    }
   ],
   "source": [
    "reg=RidgeRegGradientDescentMulti()\n",
    "reg.fit(x,y,Debug=0,alpha=0.1,trials=100,early_stop=0,l2=100)"
   ]
  }
 ],
 "metadata": {
  "kernelspec": {
   "display_name": "Python 3",
   "language": "python",
   "name": "python3"
  },
  "language_info": {
   "codemirror_mode": {
    "name": "ipython",
    "version": 3
   },
   "file_extension": ".py",
   "mimetype": "text/x-python",
   "name": "python",
   "nbconvert_exporter": "python",
   "pygments_lexer": "ipython3",
   "version": "3.7.7"
  }
 },
 "nbformat": 4,
 "nbformat_minor": 4
}
