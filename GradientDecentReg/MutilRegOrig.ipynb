{
 "cells": [
  {
   "cell_type": "code",
   "execution_count": 57,
   "metadata": {},
   "outputs": [],
   "source": [
    "import numpy as np\n",
    "import pandas as pd\n",
    "import matplotlib.pyplot as plt\n",
    "from sklearn.linear_model import LinearRegression\n",
    "from sklearn.datasets import make_regression\n",
    "from sklearn.metrics import r2_score"
   ]
  },
  {
   "cell_type": "code",
   "execution_count": 58,
   "metadata": {},
   "outputs": [],
   "source": [
    "class GradientDecentLR:\n",
    "    def fit(self,X,Y,Debug=0,trials=10,alpha=0.1,early_stop=0):\n",
    "        \n",
    "        self.best_params=np.zeros([len(X[0])+1,])\n",
    "        self.direcs=[True]*(len(X[0])+1)\n",
    "        \n",
    "        if Debug==1:\n",
    "            print(\"Debug:X.shape:\",X.shape)\n",
    "            print(\"Debug:Y.shape:\",Y.shape)\n",
    "        for t in range(trials):\n",
    "            \n",
    "            if t==0:\n",
    "                self.cost=0\n",
    "                for i in range(len(X)):\n",
    "                    residuals=0\n",
    "                    residuals+=Y[i]\n",
    "                    for j in range(len(X[0])+1):\n",
    "                        if j==0:\n",
    "                            residuals-= self.best_params[j]\n",
    "                        else:\n",
    "                            residuals-= self.best_params[j]*X[i][j-1]\n",
    "                    \n",
    "                    self.cost+=residuals**2\n",
    "                if Debug==1:print(\"Debug:sum of cost is\",self.cost)\n",
    "                \n",
    "            #initial direction checking\n",
    "            if t==0:\n",
    "                positiveDirecCost=np.zeros([len(X[0])+1,])\n",
    "                negativeDirecCost=np.zeros([len(X[0])+1,])\n",
    "                for i in range(len(X[0])+1):\n",
    "                    for j in range(len(X)):\n",
    "                        pos_residuals=0\n",
    "                        neg_residuals=0\n",
    "                        pos_residuals+=Y[j]\n",
    "                        neg_residuals+=Y[j]\n",
    "                        for k in range(len(X[0])+1):\n",
    "                            if k==i:\n",
    "                                if k==0:\n",
    "                                    pos_residuals-= (self.best_params[k]+alpha)\n",
    "                                    neg_residuals-= (self.best_params[k]-alpha)\n",
    "                                else:\n",
    "                                    pos_residuals-= (self.best_params[k]+alpha)*X[j][k-1]\n",
    "                                    neg_residuals-= (self.best_params[k]-alpha)*X[j][k-1]\n",
    "                            else:\n",
    "                                if k==0:\n",
    "                                    pos_residuals-= self.best_params[k]\n",
    "                                    neg_residuals-= self.best_params[k]\n",
    "                                else:\n",
    "                                    pos_residuals-= self.best_params[k]*X[j][k-1]\n",
    "                                    neg_residuals-= self.best_params[k]*X[j][k-1]     \n",
    "                        positiveDirecCost[i]+=pos_residuals**2\n",
    "                        negativeDirecCost[i]+=neg_residuals**2\n",
    "\n",
    "                for i in range(len(X[0])+1):\n",
    "                    if positiveDirecCost[i] <=negativeDirecCost[i]:\n",
    "                        self.direcs[i]=True\n",
    "                    if negativeDirecCost[i] < positiveDirecCost[i]:\n",
    "                        self.direcs[i] =False\n",
    "                if Debug==1:print(self.direcs)\n",
    "                \n",
    "            #parameter updates\n",
    "            for i in range(len(X[0])+1):\n",
    "                convergence=0\n",
    "                proposal_cost=0\n",
    "                for j in range(len(X)):\n",
    "                    prop_residuals=0\n",
    "                    prop_residuals+=Y[j]\n",
    "                    for k in range(len(X[0])+1):\n",
    "                        if k==i:\n",
    "                            if k==0:\n",
    "                                if self.direcs[i]==True: prop_residuals-= (self.best_params[k]+alpha)\n",
    "                                if self.direcs[i]==False: prop_residuals-= (self.best_params[k]-alpha)                                        \n",
    "                            else:\n",
    "                                if self.direcs[i]==True: prop_residuals-= (self.best_params[k]+alpha)*X[j][k-1]\n",
    "                                if self.direcs[i]==False: prop_residuals-= (self.best_params[k]-alpha)*X[j][k-1]  \n",
    "                        else:\n",
    "                            if k==0:\n",
    "                                prop_residuals-= self.best_params[k]\n",
    "                            else:\n",
    "                                prop_residuals-= self.best_params[k]*X[j][k-1]   \n",
    "                    proposal_cost+=prop_residuals**2\n",
    "                if Debug==1:print(\"Debug:Proposal Cost is \",proposal_cost)\n",
    "                if self.cost > proposal_cost:\n",
    "                    if self.direcs[i]==True: self.best_params[i]=self.best_params[i]+alpha\n",
    "                    if self.direcs[i]==False: self.best_params[i]=self.best_params[i]-alpha\n",
    "                    self.cost=proposal_cost\n",
    "                    convergence+=1\n",
    "            if convergence==0 and early_stop==1:\n",
    "                print(\"early stop\")\n",
    "                break\n",
    "            else:\n",
    "                continue\n",
    "            break\n",
    "        print(\"Best parameters:\",self.best_params)\n",
    "        print(\"Min Cost:\",self.cost/len(X))\n",
    "        return self.best_params\n",
    "    \n",
    "    def predict(self,X):\n",
    "        output=np.zeros(len(X))\n",
    "        for i in range(len(X)):\n",
    "            for j in range(len(X[0])+1):\n",
    "                if j==0:\n",
    "                    output[i]+=self.best_params[j]\n",
    "                else:\n",
    "                    output[i]+=self.best_params[j]*X[i][j-1]\n",
    "        return output"
   ]
  },
  {
   "cell_type": "code",
   "execution_count": 59,
   "metadata": {},
   "outputs": [],
   "source": [
    "x,y,coef=make_regression(random_state=42, n_samples=100, n_features=5,noise=20.0,bias=-0.0,coef=True)"
   ]
  },
  {
   "cell_type": "code",
   "execution_count": 60,
   "metadata": {},
   "outputs": [
    {
     "name": "stdout",
     "output_type": "stream",
     "text": [
      "Best parameters: [ 8.5 63.  98.  58.5 53.5 39.5]\n",
      "Min Cost: 431.34891935529834\n"
     ]
    },
    {
     "data": {
      "text/plain": [
       "array([ 8.5, 63. , 98. , 58.5, 53.5, 39.5])"
      ]
     },
     "execution_count": 60,
     "metadata": {},
     "output_type": "execute_result"
    }
   ],
   "source": [
    "reg=GradientDecentLR()\n",
    "reg.fit(x,y,Debug=0,alpha=0.5,trials=200,early_stop=0)"
   ]
  },
  {
   "cell_type": "code",
   "execution_count": 61,
   "metadata": {},
   "outputs": [
    {
     "data": {
      "text/plain": [
       "0.9779433108062615"
      ]
     },
     "execution_count": 61,
     "metadata": {},
     "output_type": "execute_result"
    }
   ],
   "source": [
    "r2_score(y,reg.predict(x))"
   ]
  }
 ],
 "metadata": {
  "kernelspec": {
   "display_name": "Python 3",
   "language": "python",
   "name": "python3"
  },
  "language_info": {
   "codemirror_mode": {
    "name": "ipython",
    "version": 3
   },
   "file_extension": ".py",
   "mimetype": "text/x-python",
   "name": "python",
   "nbconvert_exporter": "python",
   "pygments_lexer": "ipython3",
   "version": "3.7.7"
  }
 },
 "nbformat": 4,
 "nbformat_minor": 4
}
